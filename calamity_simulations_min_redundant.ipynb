{
 "cells": [
  {
   "cell_type": "markdown",
   "metadata": {},
   "source": [
    "The Calamity roadmap will involve. \n",
    "\n",
    "* inverting the wedge\n",
    "* performing abscal with no sky-model\n",
    "* calibrating out redundancies.\n",
    "\n",
    "In this notebook, we generate some simulations to test our methods on."
   ]
  },
  {
   "cell_type": "code",
   "execution_count": 1,
   "metadata": {
    "ExecuteTime": {
     "end_time": "2021-01-04T06:27:26.070129Z",
     "start_time": "2021-01-04T06:27:16.440267Z"
    }
   },
   "outputs": [],
   "source": [
    "%matplotlib inline\n",
    "import numpy as np\n",
    "import healvis as hv\n",
    "import healpy as hp\n",
    "import matplotlib.pyplot as plt\n",
    "from healvis.data import DATA_PATH\n",
    "import os\n",
    "from pyuvdata import UVData"
   ]
  },
  {
   "cell_type": "code",
   "execution_count": 2,
   "metadata": {
    "ExecuteTime": {
     "end_time": "2021-01-04T06:27:26.076500Z",
     "start_time": "2021-01-04T06:27:26.073012Z"
    }
   },
   "outputs": [],
   "source": [
    "import itertools"
   ]
  },
  {
   "cell_type": "code",
   "execution_count": 8,
   "metadata": {
    "ExecuteTime": {
     "end_time": "2021-01-04T06:30:04.732094Z",
     "start_time": "2021-01-04T06:30:04.726503Z"
    }
   },
   "outputs": [],
   "source": [
    "#create layout\n",
    "spacings = [0, 1, 6, 10, 23, 26, 34, 41, 53, 55]\n",
    "#spacings = [0, 1, 2, 3, 4, 5, 6, 7, 8, 9]\n",
    "ddish = 4.0\n",
    "antpos = [np.array([ddish * m, 0.0, 0.0]) for m in spacings]"
   ]
  },
  {
   "cell_type": "code",
   "execution_count": 15,
   "metadata": {
    "ExecuteTime": {
     "end_time": "2021-01-04T06:49:47.507815Z",
     "start_time": "2021-01-04T06:32:15.634470Z"
    }
   },
   "outputs": [],
   "source": [
    "# create a noise-like sky\n",
    "freqs =  np.arange(0,400)*60e6/400 + 120e6 \n",
    "np.random.seed(0)\n",
    "Nside = 128\n",
    "Npix = hp.nside2npix(Nside)\n",
    "eor = hv.sky_model.construct_skymodel(\"flat_spec\", freqs=freqs, \n",
    "                                      Nside=Nside, ref_chan=0, \n",
    "                                      sigma=1e-3)\n",
    "# create a PyGSM sky\n",
    "gsm = hv.sky_model.construct_skymodel('gsm', \n",
    "                                      freqs=freqs, Nside=Nside, \n",
    "                                      ref_chan=0)"
   ]
  },
  {
   "cell_type": "code",
   "execution_count": null,
   "metadata": {
    "ExecuteTime": {
     "end_time": "2021-01-04T06:28:52.245356Z",
     "start_time": "2021-01-04T06:27:54.637Z"
    }
   },
   "outputs": [],
   "source": [
    "import copy"
   ]
  },
  {
   "cell_type": "code",
   "execution_count": null,
   "metadata": {
    "ExecuteTime": {
     "end_time": "2021-01-04T06:28:52.246806Z",
     "start_time": "2021-01-04T06:27:55.289Z"
    }
   },
   "outputs": [],
   "source": [
    "eor.Nfreqs"
   ]
  },
  {
   "cell_type": "code",
   "execution_count": 8,
   "metadata": {
    "ExecuteTime": {
     "end_time": "2020-12-21T03:40:49.158822Z",
     "start_time": "2020-12-21T03:40:48.617757Z"
    }
   },
   "outputs": [
    {
     "name": "stdout",
     "output_type": "stream",
     "text": [
      "...skymodel_Nside128.hdf5 exists and clobber == False, skipping\n"
     ]
    }
   ],
   "source": [
    "sky=copy.deepcopy(gsm)\n",
    "sky.data += eor.data\n",
    "skymod_file = f'skymodel_Nside{Nside}.hdf5'\n",
    "sky.write_hdf5(skymod_file)"
   ]
  },
  {
   "cell_type": "code",
   "execution_count": 17,
   "metadata": {
    "ExecuteTime": {
     "end_time": "2021-01-04T06:50:57.380710Z",
     "start_time": "2021-01-04T06:50:57.345213Z"
    }
   },
   "outputs": [],
   "source": [
    "import copy"
   ]
  },
  {
   "cell_type": "code",
   "execution_count": 18,
   "metadata": {
    "ExecuteTime": {
     "end_time": "2021-01-04T06:51:28.834226Z",
     "start_time": "2021-01-04T06:50:57.592138Z"
    }
   },
   "outputs": [
    {
     "name": "stdout",
     "output_type": "stream",
     "text": [
      "...writing skymodel_Nside128_gsm.hdf5\n"
     ]
    }
   ],
   "source": [
    "sky=copy.deepcopy(gsm)\n",
    "#sky.data += eor.data\n",
    "skymod_file_gsm = f'skymodel_Nside{Nside}_gsm.hdf5'\n",
    "sky.write_hdf5(skymod_file_gsm)"
   ]
  },
  {
   "cell_type": "code",
   "execution_count": 19,
   "metadata": {
    "ExecuteTime": {
     "end_time": "2021-01-04T06:51:58.832181Z",
     "start_time": "2021-01-04T06:51:28.836371Z"
    }
   },
   "outputs": [
    {
     "name": "stdout",
     "output_type": "stream",
     "text": [
      "...writing skymodel_Nside128_eor.hdf5\n"
     ]
    }
   ],
   "source": [
    "sky=copy.deepcopy(eor)\n",
    "#sky.data += eor.data\n",
    "skymod_file_eor = f'skymodel_Nside{Nside}_eor.hdf5'\n",
    "sky.write_hdf5(skymod_file_eor)"
   ]
  },
  {
   "cell_type": "code",
   "execution_count": 9,
   "metadata": {
    "ExecuteTime": {
     "end_time": "2021-01-04T06:30:12.152493Z",
     "start_time": "2021-01-04T06:30:12.145892Z"
    }
   },
   "outputs": [],
   "source": [
    "layout_file=f'array_layout_{len(antpos)}_golomb.txt'\n",
    "with open(layout_file, 'w') as f:\n",
    "    f.write('Name\\tNumber\\tBeamID\\tE\\tN\\tU\\n')\n",
    "    for rownum, row in enumerate(antpos):\n",
    "        print\n",
    "        line=f'Ant{rownum}\\t{rownum}\\t0\\t{row[0]}\\t{row[1]}\\t{row[2]}\\n'\n",
    "        f.write(line)\n",
    "    f.close()"
   ]
  },
  {
   "cell_type": "code",
   "execution_count": 20,
   "metadata": {
    "ExecuteTime": {
     "end_time": "2021-01-04T06:56:50.454625Z",
     "start_time": "2021-01-04T06:51:58.835143Z"
    }
   },
   "outputs": [
    {
     "name": "stdout",
     "output_type": "stream",
     "text": [
      "Nbls: 45\n",
      "...reading skymodel_Nside128_eor.hdf5\n"
     ]
    },
    {
     "name": "stderr",
     "output_type": "stream",
     "text": [
      "antenna_diameters is not set. Using known values for HERA.\n"
     ]
    },
    {
     "name": "stdout",
     "output_type": "stream",
     "text": [
      "Finished: 1, Elapsed 1.20min, Remain 0.000hour, MaxRSS 20.724336GB\n",
      "...writing to simulated_array_ddish_4_nant_10_eor.uvh5\n",
      "...reading skymodel_Nside128_eor.hdf5\n",
      "Finished: 1, Elapsed 1.18min, Remain 0.000hour, MaxRSS 20.724504GB\n",
      "...writing to simulated_array_ddish_4_nant_10_eor.uvh5\n",
      "...reading skymodel_Nside128_eor.hdf5\n",
      "Finished: 1, Elapsed 1.17min, Remain 0.000hour, MaxRSS 20.724564GB\n",
      "...writing to simulated_array_ddish_4_nant_10_eor.uvh5\n",
      "...reading skymodel_Nside128_eor.hdf5\n",
      "Finished: 1, Elapsed 1.18min, Remain 0.000hour, MaxRSS 20.724588GB\n",
      "...writing to simulated_array_ddish_4_nant_10_eor.uvh5\n"
     ]
    }
   ],
   "source": [
    "uvd = hv.simulator.setup_uvdata(array_layout=layout_file,\n",
    "                                telescope_location=(-30.72152777777791, 21.428305555555557, 1073.0000000093132),\n",
    "                                telescope_name=\"HERA\", Ntimes=1, time_cadence=16.0, start_time=2458000.1,\n",
    "                                pols=['xx'], run_check=True, \n",
    "                                Nfreqs=400, start_freq=120e6, bandwidth=60e6, make_full=True)\n",
    "uvh5_data = f'simulated_array_ddish_{int(ddish)}_nant_{len(antpos)}_eor.uvh5'\n",
    "uvd.write_uvh5(uvh5_data, clobber=True)\n",
    "beam = hv.beam_model.AnalyticBeam('airy', diameter=ddish)\n",
    "for chunk in range(4):\n",
    "    freq_chans=np.arange(chunk * 100, (chunk+1) * 100).astype(int)\n",
    "    hv.simulator.run_simulation_partial_freq(freq_chans, uvh5_data, \n",
    "                                             skymod_file_eor, fov=180, \n",
    "                                             beam=beam)"
   ]
  },
  {
   "cell_type": "code",
   "execution_count": 21,
   "metadata": {
    "ExecuteTime": {
     "end_time": "2021-01-04T07:01:24.975164Z",
     "start_time": "2021-01-04T06:56:50.457917Z"
    }
   },
   "outputs": [
    {
     "name": "stdout",
     "output_type": "stream",
     "text": [
      "Nbls: 45\n",
      "...reading skymodel_Nside128_gsm.hdf5\n"
     ]
    },
    {
     "name": "stderr",
     "output_type": "stream",
     "text": [
      "antenna_diameters is not set. Using known values for HERA.\n"
     ]
    },
    {
     "name": "stdout",
     "output_type": "stream",
     "text": [
      "Finished: 1, Elapsed 1.16min, Remain 0.000hour, MaxRSS 20.724604GB\n",
      "...writing to simulated_array_ddish_4_nant_10_gsm.uvh5\n",
      "...reading skymodel_Nside128_gsm.hdf5\n",
      "Finished: 1, Elapsed 1.16min, Remain 0.000hour, MaxRSS 20.724648GB\n",
      "...writing to simulated_array_ddish_4_nant_10_gsm.uvh5\n",
      "...reading skymodel_Nside128_gsm.hdf5\n",
      "Finished: 1, Elapsed 1.03min, Remain 0.000hour, MaxRSS 20.72466GB\n",
      "...writing to simulated_array_ddish_4_nant_10_gsm.uvh5\n",
      "...reading skymodel_Nside128_gsm.hdf5\n",
      "Finished: 1, Elapsed 1.04min, Remain 0.000hour, MaxRSS 20.72468GB\n",
      "...writing to simulated_array_ddish_4_nant_10_gsm.uvh5\n"
     ]
    }
   ],
   "source": [
    "uvd = hv.simulator.setup_uvdata(array_layout=layout_file,\n",
    "                                telescope_location=(-30.72152777777791, 21.428305555555557, 1073.0000000093132),\n",
    "                                telescope_name=\"HERA\", Ntimes=1, time_cadence=16.0, start_time=2458000.1,\n",
    "                                pols=['xx'], run_check=True, \n",
    "                                Nfreqs=400, start_freq=120e6, bandwidth=60e6, make_full=True)\n",
    "uvh5_data = f'simulated_array_ddish_{int(ddish)}_nant_{len(antpos)}_gsm.uvh5'\n",
    "uvd.write_uvh5(uvh5_data, clobber=True)\n",
    "beam = hv.beam_model.AnalyticBeam('airy', diameter=ddish)\n",
    "for chunk in range(4):\n",
    "    freq_chans=np.arange(chunk * 100, (chunk+1) * 100).astype(int)\n",
    "    hv.simulator.run_simulation_partial_freq(freq_chans, uvh5_data, \n",
    "                                             skymod_file_gsm, fov=180, \n",
    "                                             beam=beam)"
   ]
  }
 ],
 "metadata": {
  "kernelspec": {
   "display_name": "Python 3",
   "language": "python",
   "name": "python3"
  },
  "language_info": {
   "codemirror_mode": {
    "name": "ipython",
    "version": 3
   },
   "file_extension": ".py",
   "mimetype": "text/x-python",
   "name": "python",
   "nbconvert_exporter": "python",
   "pygments_lexer": "ipython3",
   "version": "3.7.9"
  }
 },
 "nbformat": 4,
 "nbformat_minor": 4
}
