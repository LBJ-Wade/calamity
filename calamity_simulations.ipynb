{
 "cells": [
  {
   "cell_type": "markdown",
   "metadata": {},
   "source": [
    "The Calamity roadmap will involve. \n",
    "\n",
    "* inverting the wedge\n",
    "* performing abscal with no sky-model\n",
    "* calibrating out redundancies.\n",
    "\n",
    "In this notebook, we generate some simulations to test our methods on."
   ]
  },
  {
   "cell_type": "code",
   "execution_count": 1,
   "metadata": {
    "ExecuteTime": {
     "end_time": "2020-12-21T03:26:31.978507Z",
     "start_time": "2020-12-21T03:26:17.415025Z"
    }
   },
   "outputs": [],
   "source": [
    "%matplotlib inline\n",
    "import numpy as np\n",
    "import healvis as hv\n",
    "import healpy as hp\n",
    "import matplotlib.pyplot as plt\n",
    "from healvis.data import DATA_PATH\n",
    "import os\n",
    "from pyuvdata import UVData"
   ]
  },
  {
   "cell_type": "code",
   "execution_count": 2,
   "metadata": {
    "ExecuteTime": {
     "end_time": "2020-12-21T03:26:31.987181Z",
     "start_time": "2020-12-21T03:26:31.982604Z"
    }
   },
   "outputs": [],
   "source": [
    "import itertools"
   ]
  },
  {
   "cell_type": "code",
   "execution_count": 3,
   "metadata": {
    "ExecuteTime": {
     "end_time": "2020-12-21T03:26:32.763975Z",
     "start_time": "2020-12-21T03:26:32.758029Z"
    }
   },
   "outputs": [],
   "source": [
    "#create layout\n",
    "#spacings = [0, 1, 6, 10, 23, 26, 34, 41, 53, 55]\n",
    "spacings = [0, 1, 2, 3, 4, 5, 6, 7, 8, 9]\n",
    "ddish = 15.0\n",
    "antpos = [np.array([ddish * m, 0.0, 0.0]) for m in spacings]"
   ]
  },
  {
   "cell_type": "code",
   "execution_count": 5,
   "metadata": {
    "ExecuteTime": {
     "end_time": "2020-12-21T03:40:48.574610Z",
     "start_time": "2020-12-21T03:27:29.678212Z"
    }
   },
   "outputs": [],
   "source": [
    "# create a noise-like sky\n",
    "freqs =  np.arange(0,400)*60e6/400 + 120e6 \n",
    "np.random.seed(0)\n",
    "Nside = 128\n",
    "Npix = hp.nside2npix(Nside)\n",
    "eor = hv.sky_model.construct_skymodel(\"flat_spec\", freqs=freqs, \n",
    "                                      Nside=Nside, ref_chan=0, \n",
    "                                      sigma=1e-3)\n",
    "# create a PyGSM sky\n",
    "gsm = hv.sky_model.construct_skymodel('gsm', \n",
    "                                      freqs=freqs, Nside=Nside, \n",
    "                                      ref_chan=0)"
   ]
  },
  {
   "cell_type": "code",
   "execution_count": 6,
   "metadata": {
    "ExecuteTime": {
     "end_time": "2020-12-21T03:40:48.580079Z",
     "start_time": "2020-12-21T03:40:48.576913Z"
    }
   },
   "outputs": [],
   "source": [
    "import copy"
   ]
  },
  {
   "cell_type": "code",
   "execution_count": 7,
   "metadata": {
    "ExecuteTime": {
     "end_time": "2020-12-21T03:40:48.614972Z",
     "start_time": "2020-12-21T03:40:48.582129Z"
    }
   },
   "outputs": [
    {
     "data": {
      "text/plain": [
       "400"
      ]
     },
     "execution_count": 7,
     "metadata": {},
     "output_type": "execute_result"
    }
   ],
   "source": [
    "eor.Nfreqs"
   ]
  },
  {
   "cell_type": "code",
   "execution_count": 8,
   "metadata": {
    "ExecuteTime": {
     "end_time": "2020-12-21T03:40:49.158822Z",
     "start_time": "2020-12-21T03:40:48.617757Z"
    }
   },
   "outputs": [
    {
     "name": "stdout",
     "output_type": "stream",
     "text": [
      "...skymodel_Nside128.hdf5 exists and clobber == False, skipping\n"
     ]
    }
   ],
   "source": [
    "sky=copy.deepcopy(gsm)\n",
    "sky.data += eor.data\n",
    "skymod_file = f'skymodel_Nside{Nside}.hdf5'\n",
    "sky.write_hdf5(skymod_file)"
   ]
  },
  {
   "cell_type": "code",
   "execution_count": 9,
   "metadata": {
    "ExecuteTime": {
     "end_time": "2020-12-21T03:40:49.173060Z",
     "start_time": "2020-12-21T03:40:49.161114Z"
    }
   },
   "outputs": [],
   "source": [
    "layout_file=f'array_layout_{len(antpos)}.txt'\n",
    "with open(layout_file, 'w') as f:\n",
    "    f.write('Name\\tNumber\\tBeamID\\tE\\tN\\tU\\n')\n",
    "    for rownum, row in enumerate(antpos):\n",
    "        print\n",
    "        line=f'Ant{rownum}\\t{rownum}\\t0\\t{row[0]}\\t{row[1]}\\t{row[2]}\\n'\n",
    "        f.write(line)\n",
    "    f.close()"
   ]
  },
  {
   "cell_type": "code",
   "execution_count": 10,
   "metadata": {
    "ExecuteTime": {
     "end_time": "2020-12-21T03:40:50.804458Z",
     "start_time": "2020-12-21T03:40:49.174664Z"
    }
   },
   "outputs": [
    {
     "name": "stdout",
     "output_type": "stream",
     "text": [
      "Nbls: 45\n"
     ]
    },
    {
     "ename": "OSError",
     "evalue": "File exists; skipping",
     "output_type": "error",
     "traceback": [
      "\u001b[0;31m---------------------------------------------------------------------------\u001b[0m",
      "\u001b[0;31mOSError\u001b[0m                                   Traceback (most recent call last)",
      "\u001b[0;32m<ipython-input-10-6305da6ee964>\u001b[0m in \u001b[0;36m<module>\u001b[0;34m\u001b[0m\n\u001b[1;32m      5\u001b[0m                                 Nfreqs=400, start_freq=120e6, bandwidth=60e6, make_full=True)\n\u001b[1;32m      6\u001b[0m \u001b[0muvh5_data\u001b[0m \u001b[0;34m=\u001b[0m \u001b[0;34mf'simulated_array_ddish_{int(ddish)}_nant_{len(antpos)}'\u001b[0m\u001b[0;34m\u001b[0m\u001b[0;34m\u001b[0m\u001b[0m\n\u001b[0;32m----> 7\u001b[0;31m \u001b[0muvd\u001b[0m\u001b[0;34m.\u001b[0m\u001b[0mwrite_uvh5\u001b[0m\u001b[0;34m(\u001b[0m\u001b[0muvh5_data\u001b[0m\u001b[0;34m)\u001b[0m\u001b[0;34m\u001b[0m\u001b[0;34m\u001b[0m\u001b[0m\n\u001b[0m",
      "\u001b[0;32m/lustre/aoc/projects/hera/aewallwi/miniconda3/envs/hera3/lib/python3.7/site-packages/pyuvdata/uvdata/uvdata.py\u001b[0m in \u001b[0;36mwrite_uvh5\u001b[0;34m(self, filename, clobber, chunks, data_compression, flags_compression, nsample_compression, data_write_dtype, run_check, check_extra, run_check_acceptability, strict_uvw_antpos_check)\u001b[0m\n\u001b[1;32m   7899\u001b[0m             \u001b[0mcheck_extra\u001b[0m\u001b[0;34m=\u001b[0m\u001b[0mcheck_extra\u001b[0m\u001b[0;34m,\u001b[0m\u001b[0;34m\u001b[0m\u001b[0;34m\u001b[0m\u001b[0m\n\u001b[1;32m   7900\u001b[0m             \u001b[0mrun_check_acceptability\u001b[0m\u001b[0;34m=\u001b[0m\u001b[0mrun_check_acceptability\u001b[0m\u001b[0;34m,\u001b[0m\u001b[0;34m\u001b[0m\u001b[0;34m\u001b[0m\u001b[0m\n\u001b[0;32m-> 7901\u001b[0;31m             \u001b[0mstrict_uvw_antpos_check\u001b[0m\u001b[0;34m=\u001b[0m\u001b[0mstrict_uvw_antpos_check\u001b[0m\u001b[0;34m,\u001b[0m\u001b[0;34m\u001b[0m\u001b[0;34m\u001b[0m\u001b[0m\n\u001b[0m\u001b[1;32m   7902\u001b[0m         )\n\u001b[1;32m   7903\u001b[0m         \u001b[0;32mdel\u001b[0m \u001b[0muvh5_obj\u001b[0m\u001b[0;34m\u001b[0m\u001b[0;34m\u001b[0m\u001b[0m\n",
      "\u001b[0;32m/lustre/aoc/projects/hera/aewallwi/miniconda3/envs/hera3/lib/python3.7/site-packages/pyuvdata/uvdata/uvh5.py\u001b[0m in \u001b[0;36mwrite_uvh5\u001b[0;34m(self, filename, clobber, chunks, data_compression, flags_compression, nsample_compression, data_write_dtype, add_to_history, run_check, check_extra, run_check_acceptability, strict_uvw_antpos_check)\u001b[0m\n\u001b[1;32m   1212\u001b[0m                 \u001b[0mprint\u001b[0m\u001b[0;34m(\u001b[0m\u001b[0;34m\"File exists; clobbering\"\u001b[0m\u001b[0;34m)\u001b[0m\u001b[0;34m\u001b[0m\u001b[0;34m\u001b[0m\u001b[0m\n\u001b[1;32m   1213\u001b[0m             \u001b[0;32melse\u001b[0m\u001b[0;34m:\u001b[0m\u001b[0;34m\u001b[0m\u001b[0;34m\u001b[0m\u001b[0m\n\u001b[0;32m-> 1214\u001b[0;31m                 \u001b[0;32mraise\u001b[0m \u001b[0mIOError\u001b[0m\u001b[0;34m(\u001b[0m\u001b[0;34m\"File exists; skipping\"\u001b[0m\u001b[0;34m)\u001b[0m\u001b[0;34m\u001b[0m\u001b[0;34m\u001b[0m\u001b[0m\n\u001b[0m\u001b[1;32m   1215\u001b[0m \u001b[0;34m\u001b[0m\u001b[0m\n\u001b[1;32m   1216\u001b[0m         \u001b[0;31m# open file for writing\u001b[0m\u001b[0;34m\u001b[0m\u001b[0;34m\u001b[0m\u001b[0;34m\u001b[0m\u001b[0m\n",
      "\u001b[0;31mOSError\u001b[0m: File exists; skipping"
     ]
    }
   ],
   "source": [
    "uvd = hv.simulator.setup_uvdata(array_layout=layout_file,\n",
    "                                telescope_location=(-30.72152777777791, 21.428305555555557, 1073.0000000093132),\n",
    "                                telescope_name=\"HERA\", Ntimes=1, time_cadence=16.0, start_time=2458000.1,\n",
    "                                pols=['xx'], run_check=True, \n",
    "                                Nfreqs=400, start_freq=120e6, bandwidth=60e6, make_full=True)\n",
    "uvh5_data = f'simulated_array_ddish_{int(ddish)}_nant_{len(antpos)}'\n"
   ]
  },
  {
   "cell_type": "code",
   "execution_count": 11,
   "metadata": {
    "ExecuteTime": {
     "end_time": "2020-12-21T04:11:25.037640Z",
     "start_time": "2020-12-21T04:11:24.933144Z"
    }
   },
   "outputs": [
    {
     "name": "stdout",
     "output_type": "stream",
     "text": [
      "File exists; clobbering\n"
     ]
    }
   ],
   "source": [
    "uvd.write_uvh5(uvh5_data, clobber=True)"
   ]
  },
  {
   "cell_type": "code",
   "execution_count": 12,
   "metadata": {
    "ExecuteTime": {
     "end_time": "2020-12-21T04:11:26.563490Z",
     "start_time": "2020-12-21T04:11:26.558064Z"
    }
   },
   "outputs": [
    {
     "data": {
      "text/plain": [
       "15.0"
      ]
     },
     "execution_count": 12,
     "metadata": {},
     "output_type": "execute_result"
    }
   ],
   "source": [
    "ddish"
   ]
  },
  {
   "cell_type": "code",
   "execution_count": 13,
   "metadata": {
    "ExecuteTime": {
     "end_time": "2020-12-21T04:11:28.685788Z",
     "start_time": "2020-12-21T04:11:28.681684Z"
    }
   },
   "outputs": [],
   "source": [
    "beam = hv.beam_model.AnalyticBeam('airy', diameter=ddish)"
   ]
  },
  {
   "cell_type": "code",
   "execution_count": 15,
   "metadata": {
    "ExecuteTime": {
     "end_time": "2020-12-21T04:16:11.868124Z",
     "start_time": "2020-12-21T04:11:48.344963Z"
    }
   },
   "outputs": [
    {
     "name": "stdout",
     "output_type": "stream",
     "text": [
      "...reading skymodel_Nside128.hdf5\n",
      "Finished: 1, Elapsed 1.06min, Remain 0.000hour, MaxRSS 10.941484GB\n",
      "...writing to simulated_array_ddish_15_nant_10\n",
      "...reading skymodel_Nside128.hdf5\n",
      "Finished: 1, Elapsed 1.06min, Remain 0.000hour, MaxRSS 10.942468GB\n",
      "...writing to simulated_array_ddish_15_nant_10\n",
      "...reading skymodel_Nside128.hdf5\n",
      "Finished: 1, Elapsed 1.06min, Remain 0.000hour, MaxRSS 10.942548GB\n",
      "...writing to simulated_array_ddish_15_nant_10\n",
      "...reading skymodel_Nside128.hdf5\n",
      "Finished: 1, Elapsed 1.07min, Remain 0.000hour, MaxRSS 10.942608GB\n",
      "...writing to simulated_array_ddish_15_nant_10\n"
     ]
    }
   ],
   "source": [
    "for chunk in range(4):\n",
    "    freq_chans=np.arange(chunk * 100, (chunk+1) * 100).astype(int)\n",
    "    hv.simulator.run_simulation_partial_freq(freq_chans, uvh5_data, \n",
    "                                             skymod_file, fov=180, \n",
    "                                             beam=beam)"
   ]
  }
 ],
 "metadata": {
  "kernelspec": {
   "display_name": "Python 3",
   "language": "python",
   "name": "python3"
  },
  "language_info": {
   "codemirror_mode": {
    "name": "ipython",
    "version": 3
   },
   "file_extension": ".py",
   "mimetype": "text/x-python",
   "name": "python",
   "nbconvert_exporter": "python",
   "pygments_lexer": "ipython3",
   "version": "3.7.9"
  }
 },
 "nbformat": 4,
 "nbformat_minor": 4
}
